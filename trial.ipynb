{
 "cells": [
  {
   "cell_type": "code",
   "execution_count": 1,
   "metadata": {},
   "outputs": [],
   "source": [
    "import pandas as pd"
   ]
  },
  {
   "cell_type": "code",
   "execution_count": 2,
   "metadata": {},
   "outputs": [],
   "source": [
    "df=pd.read_csv('Moby_November.csv')"
   ]
  },
  {
   "cell_type": "code",
   "execution_count": 3,
   "metadata": {},
   "outputs": [
    {
     "data": {
      "text/html": [
       "<div>\n",
       "<style scoped>\n",
       "    .dataframe tbody tr th:only-of-type {\n",
       "        vertical-align: middle;\n",
       "    }\n",
       "\n",
       "    .dataframe tbody tr th {\n",
       "        vertical-align: top;\n",
       "    }\n",
       "\n",
       "    .dataframe thead th {\n",
       "        text-align: right;\n",
       "    }\n",
       "</style>\n",
       "<table border=\"1\" class=\"dataframe\">\n",
       "  <thead>\n",
       "    <tr style=\"text-align: right;\">\n",
       "      <th></th>\n",
       "      <th>_id</th>\n",
       "      <th>HarvestTime</th>\n",
       "      <th>BikeID</th>\n",
       "      <th>Battery</th>\n",
       "      <th>BikeIdentifier</th>\n",
       "      <th>BikeTypeName</th>\n",
       "      <th>EBikeProfileID</th>\n",
       "      <th>EBikeStateID</th>\n",
       "      <th>IsEBike</th>\n",
       "      <th>IsMotor</th>\n",
       "      <th>IsSmartLock</th>\n",
       "      <th>LastGPSTime</th>\n",
       "      <th>LastRentalStart</th>\n",
       "      <th>Latitude</th>\n",
       "      <th>Longitude</th>\n",
       "      <th>SpikeID</th>\n",
       "    </tr>\n",
       "  </thead>\n",
       "  <tbody>\n",
       "    <tr>\n",
       "      <th>0</th>\n",
       "      <td>1</td>\n",
       "      <td>2021-11-01T00:00:02</td>\n",
       "      <td>5</td>\n",
       "      <td>70.0</td>\n",
       "      <td>1</td>\n",
       "      <td>DUB-General</td>\n",
       "      <td>1</td>\n",
       "      <td>2</td>\n",
       "      <td>True</td>\n",
       "      <td>False</td>\n",
       "      <td>False</td>\n",
       "      <td>2021-10-31T23:44:42</td>\n",
       "      <td>2021-10-29T14:10:35</td>\n",
       "      <td>53.3226</td>\n",
       "      <td>-6.23785</td>\n",
       "      <td>1</td>\n",
       "    </tr>\n",
       "    <tr>\n",
       "      <th>1</th>\n",
       "      <td>2</td>\n",
       "      <td>2021-11-01T00:00:02</td>\n",
       "      <td>6</td>\n",
       "      <td>55.0</td>\n",
       "      <td>2</td>\n",
       "      <td>DUB-General</td>\n",
       "      <td>1</td>\n",
       "      <td>2</td>\n",
       "      <td>True</td>\n",
       "      <td>False</td>\n",
       "      <td>False</td>\n",
       "      <td>2021-10-31T23:31:34</td>\n",
       "      <td>2021-10-30T15:16:16</td>\n",
       "      <td>53.3648</td>\n",
       "      <td>-6.31841</td>\n",
       "      <td>2</td>\n",
       "    </tr>\n",
       "    <tr>\n",
       "      <th>2</th>\n",
       "      <td>3</td>\n",
       "      <td>2021-11-01T00:00:02</td>\n",
       "      <td>7</td>\n",
       "      <td>53.0</td>\n",
       "      <td>3</td>\n",
       "      <td>DUB-General</td>\n",
       "      <td>1</td>\n",
       "      <td>2</td>\n",
       "      <td>True</td>\n",
       "      <td>False</td>\n",
       "      <td>False</td>\n",
       "      <td>2021-10-31T23:54:06</td>\n",
       "      <td>2021-10-31T18:35:16</td>\n",
       "      <td>53.3460</td>\n",
       "      <td>-6.30827</td>\n",
       "      <td>3</td>\n",
       "    </tr>\n",
       "    <tr>\n",
       "      <th>3</th>\n",
       "      <td>4</td>\n",
       "      <td>2021-11-01T00:00:02</td>\n",
       "      <td>8</td>\n",
       "      <td>52.0</td>\n",
       "      <td>4</td>\n",
       "      <td>DUB-General</td>\n",
       "      <td>1</td>\n",
       "      <td>1</td>\n",
       "      <td>True</td>\n",
       "      <td>False</td>\n",
       "      <td>False</td>\n",
       "      <td>2021-10-25T18:04:25</td>\n",
       "      <td>2021-10-25T18:00:28</td>\n",
       "      <td>53.3770</td>\n",
       "      <td>-6.26992</td>\n",
       "      <td>4</td>\n",
       "    </tr>\n",
       "    <tr>\n",
       "      <th>4</th>\n",
       "      <td>5</td>\n",
       "      <td>2021-11-01T00:00:02</td>\n",
       "      <td>9</td>\n",
       "      <td>73.0</td>\n",
       "      <td>5</td>\n",
       "      <td>DUB-General</td>\n",
       "      <td>1</td>\n",
       "      <td>2</td>\n",
       "      <td>True</td>\n",
       "      <td>False</td>\n",
       "      <td>False</td>\n",
       "      <td>2021-10-31T23:55:36</td>\n",
       "      <td>2021-10-31T00:05:06</td>\n",
       "      <td>53.3333</td>\n",
       "      <td>-6.21655</td>\n",
       "      <td>5</td>\n",
       "    </tr>\n",
       "  </tbody>\n",
       "</table>\n",
       "</div>"
      ],
      "text/plain": [
       "   _id          HarvestTime  BikeID  Battery  BikeIdentifier BikeTypeName  \\\n",
       "0    1  2021-11-01T00:00:02       5     70.0               1  DUB-General   \n",
       "1    2  2021-11-01T00:00:02       6     55.0               2  DUB-General   \n",
       "2    3  2021-11-01T00:00:02       7     53.0               3  DUB-General   \n",
       "3    4  2021-11-01T00:00:02       8     52.0               4  DUB-General   \n",
       "4    5  2021-11-01T00:00:02       9     73.0               5  DUB-General   \n",
       "\n",
       "   EBikeProfileID  EBikeStateID  IsEBike  IsMotor  IsSmartLock  \\\n",
       "0               1             2     True    False        False   \n",
       "1               1             2     True    False        False   \n",
       "2               1             2     True    False        False   \n",
       "3               1             1     True    False        False   \n",
       "4               1             2     True    False        False   \n",
       "\n",
       "           LastGPSTime      LastRentalStart  Latitude  Longitude  SpikeID  \n",
       "0  2021-10-31T23:44:42  2021-10-29T14:10:35   53.3226   -6.23785        1  \n",
       "1  2021-10-31T23:31:34  2021-10-30T15:16:16   53.3648   -6.31841        2  \n",
       "2  2021-10-31T23:54:06  2021-10-31T18:35:16   53.3460   -6.30827        3  \n",
       "3  2021-10-25T18:04:25  2021-10-25T18:00:28   53.3770   -6.26992        4  \n",
       "4  2021-10-31T23:55:36  2021-10-31T00:05:06   53.3333   -6.21655        5  "
      ]
     },
     "execution_count": 3,
     "metadata": {},
     "output_type": "execute_result"
    }
   ],
   "source": [
    "df.head()"
   ]
  },
  {
   "cell_type": "code",
   "execution_count": 5,
   "metadata": {},
   "outputs": [
    {
     "data": {
      "text/plain": [
       "73"
      ]
     },
     "execution_count": 5,
     "metadata": {},
     "output_type": "execute_result"
    }
   ],
   "source": [
    "len(df['BikeID'].unique())"
   ]
  },
  {
   "cell_type": "code",
   "execution_count": 7,
   "metadata": {},
   "outputs": [
    {
     "data": {
      "text/plain": [
       "2"
      ]
     },
     "execution_count": 7,
     "metadata": {},
     "output_type": "execute_result"
    }
   ],
   "source": [
    "len(df['BikeTypeName'].unique())"
   ]
  },
  {
   "cell_type": "code",
   "execution_count": 8,
   "metadata": {},
   "outputs": [
    {
     "data": {
      "text/plain": [
       "array(['DUB-General', 'Workshop'], dtype=object)"
      ]
     },
     "execution_count": 8,
     "metadata": {},
     "output_type": "execute_result"
    }
   ],
   "source": [
    "df['BikeTypeName'].unique()"
   ]
  },
  {
   "cell_type": "code",
   "execution_count": 9,
   "metadata": {},
   "outputs": [
    {
     "data": {
      "text/plain": [
       "3"
      ]
     },
     "execution_count": 9,
     "metadata": {},
     "output_type": "execute_result"
    }
   ],
   "source": [
    "len(df['EBikeStateID'].unique())"
   ]
  },
  {
   "cell_type": "code",
   "execution_count": 10,
   "metadata": {},
   "outputs": [
    {
     "data": {
      "text/plain": [
       "84482"
      ]
     },
     "execution_count": 10,
     "metadata": {},
     "output_type": "execute_result"
    }
   ],
   "source": [
    "len(df[df.IsEBike==True])"
   ]
  },
  {
   "cell_type": "code",
   "execution_count": 12,
   "metadata": {},
   "outputs": [
    {
     "data": {
      "text/plain": [
       "0"
      ]
     },
     "execution_count": 12,
     "metadata": {},
     "output_type": "execute_result"
    }
   ],
   "source": [
    "len(df[df.IsMotor==True])"
   ]
  },
  {
   "cell_type": "code",
   "execution_count": 6,
   "metadata": {},
   "outputs": [
    {
     "data": {
      "text/plain": [
       "84482"
      ]
     },
     "execution_count": 6,
     "metadata": {},
     "output_type": "execute_result"
    }
   ],
   "source": [
    "len(df)"
   ]
  }
 ],
 "metadata": {
  "interpreter": {
   "hash": "0226b76503bb80e73f0b2107715eb10b6ed0527b24ee5cb786cd257168a241ab"
  },
  "kernelspec": {
   "display_name": "Python 3.8.6 64-bit ('condaenv': conda)",
   "language": "python",
   "name": "python3"
  },
  "language_info": {
   "codemirror_mode": {
    "name": "ipython",
    "version": 3
   },
   "file_extension": ".py",
   "mimetype": "text/x-python",
   "name": "python",
   "nbconvert_exporter": "python",
   "pygments_lexer": "ipython3",
   "version": "3.8.6"
  },
  "orig_nbformat": 4
 },
 "nbformat": 4,
 "nbformat_minor": 2
}
